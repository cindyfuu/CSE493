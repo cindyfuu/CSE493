{
 "cells": [
  {
   "cell_type": "code",
   "execution_count": null,
   "metadata": {},
   "outputs": [],
   "source": [
    "import os\n",
    "import shutil\n",
    "import random\n",
    "\n",
    "source_dir = \".\"\n",
    "dest_dir = \"./Selected_data\"\n",
    "\n",
    "selection_criteria = {\n",
    "    'Train': {'Fake': 5000, 'Real': 5000},\n",
    "    'Validation': {'Fake': 800, 'Real': 800},\n",
    "    'Test': {'Fake': 1000, 'Real': 1000}\n",
    "}"
   ]
  },
  {
   "cell_type": "code",
   "execution_count": 4,
   "metadata": {},
   "outputs": [],
   "source": [
    "for split in ['Train', 'Valid', 'Test']:\n",
    "    for category in ['Fake', 'Real']:\n",
    "        os.makedirs(os.path.join(dest_dir, split, category), exist_ok=True)\n",
    "\n",
    "def select_and_copy_files(src_folder, dest_folder, num_files):\n",
    "    all_files = os.listdir(src_folder)\n",
    "    selected_files = random.sample(all_files, num_files)\n",
    "    for file_name in selected_files:\n",
    "        shutil.copy(os.path.join(src_folder, file_name), os.path.join(dest_folder, file_name))\n",
    "\n",
    "\n",
    "for split, categories in selection_criteria.items():\n",
    "    for category, num_files in categories.items():\n",
    "        src_folder = os.path.join(source_dir, split, category)\n",
    "        dest_split = 'Train' if split == 'Train' else 'Valid' if split == 'Validation' else 'Test'\n",
    "        dest_folder = os.path.join(dest_dir, dest_split, category)\n",
    "        \n",
    "        # Ensure there are enough files to select from\n",
    "        if len(os.listdir(src_folder)) >= num_files:\n",
    "            select_and_copy_files(src_folder, dest_folder, num_files)\n",
    "        else:\n",
    "            print(f\"Not enough files in {src_folder} to select {num_files} images.\")"
   ]
  },
  {
   "cell_type": "code",
   "execution_count": null,
   "metadata": {},
   "outputs": [],
   "source": []
  }
 ],
 "metadata": {
  "kernelspec": {
   "display_name": "base",
   "language": "python",
   "name": "python3"
  },
  "language_info": {
   "codemirror_mode": {
    "name": "ipython",
    "version": 3
   },
   "file_extension": ".py",
   "mimetype": "text/x-python",
   "name": "python",
   "nbconvert_exporter": "python",
   "pygments_lexer": "ipython3",
   "version": "3.12.4"
  }
 },
 "nbformat": 4,
 "nbformat_minor": 2
}
